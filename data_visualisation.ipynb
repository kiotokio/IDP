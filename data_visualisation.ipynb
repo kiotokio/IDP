{
 "cells": [
  {
   "cell_type": "code",
   "execution_count": 1,
   "metadata": {},
   "outputs": [],
   "source": [
    "import numpy as np\n",
    "import pandas as pd\n",
    "from matplotlib import pyplot as plt\n",
    "import matplotlib.ticker as mticker  \n",
    "%matplotlib inline"
   ]
  },
  {
   "cell_type": "code",
   "execution_count": 2,
   "metadata": {},
   "outputs": [
    {
     "data": {
      "text/html": [
       "<div>\n",
       "<style scoped>\n",
       "    .dataframe tbody tr th:only-of-type {\n",
       "        vertical-align: middle;\n",
       "    }\n",
       "\n",
       "    .dataframe tbody tr th {\n",
       "        vertical-align: top;\n",
       "    }\n",
       "\n",
       "    .dataframe thead th {\n",
       "        text-align: right;\n",
       "    }\n",
       "</style>\n",
       "<table border=\"1\" class=\"dataframe\">\n",
       "  <thead>\n",
       "    <tr style=\"text-align: right;\">\n",
       "      <th></th>\n",
       "      <th>brand_name</th>\n",
       "      <th>model_name</th>\n",
       "      <th>os</th>\n",
       "      <th>popularity</th>\n",
       "      <th>best_price</th>\n",
       "      <th>lowest_price</th>\n",
       "      <th>highest_price</th>\n",
       "      <th>sellers_amount</th>\n",
       "      <th>screen_size</th>\n",
       "      <th>memory_size</th>\n",
       "      <th>battery_size</th>\n",
       "      <th>release_date</th>\n",
       "    </tr>\n",
       "  </thead>\n",
       "  <tbody>\n",
       "    <tr>\n",
       "      <td>0</td>\n",
       "      <td>ALCATEL</td>\n",
       "      <td>1 1/8GB Bluish Black (5033D-2JALUAA)</td>\n",
       "      <td>Android</td>\n",
       "      <td>422</td>\n",
       "      <td>1690.0</td>\n",
       "      <td>1529.0</td>\n",
       "      <td>1819.0</td>\n",
       "      <td>36</td>\n",
       "      <td>5.00</td>\n",
       "      <td>8.0</td>\n",
       "      <td>2000.0</td>\n",
       "      <td>10-2020</td>\n",
       "    </tr>\n",
       "    <tr>\n",
       "      <td>1</td>\n",
       "      <td>ALCATEL</td>\n",
       "      <td>1 5033D 1/16GB Volcano Black (5033D-2LALUAF)</td>\n",
       "      <td>Android</td>\n",
       "      <td>323</td>\n",
       "      <td>1803.0</td>\n",
       "      <td>1659.0</td>\n",
       "      <td>2489.0</td>\n",
       "      <td>36</td>\n",
       "      <td>5.00</td>\n",
       "      <td>16.0</td>\n",
       "      <td>2000.0</td>\n",
       "      <td>9-2020</td>\n",
       "    </tr>\n",
       "    <tr>\n",
       "      <td>2</td>\n",
       "      <td>ALCATEL</td>\n",
       "      <td>1 5033D 1/16GB Volcano Black (5033D-2LALUAF)</td>\n",
       "      <td>Android</td>\n",
       "      <td>299</td>\n",
       "      <td>1803.0</td>\n",
       "      <td>1659.0</td>\n",
       "      <td>2489.0</td>\n",
       "      <td>36</td>\n",
       "      <td>5.00</td>\n",
       "      <td>16.0</td>\n",
       "      <td>2000.0</td>\n",
       "      <td>9-2020</td>\n",
       "    </tr>\n",
       "    <tr>\n",
       "      <td>3</td>\n",
       "      <td>ALCATEL</td>\n",
       "      <td>1 5033D 1/16GB Volcano Black (5033D-2LALUAF)</td>\n",
       "      <td>Android</td>\n",
       "      <td>287</td>\n",
       "      <td>1803.0</td>\n",
       "      <td>1659.0</td>\n",
       "      <td>2489.0</td>\n",
       "      <td>36</td>\n",
       "      <td>5.00</td>\n",
       "      <td>16.0</td>\n",
       "      <td>2000.0</td>\n",
       "      <td>9-2020</td>\n",
       "    </tr>\n",
       "    <tr>\n",
       "      <td>4</td>\n",
       "      <td>Nokia</td>\n",
       "      <td>1.3 1/16GB Charcoal</td>\n",
       "      <td>Android</td>\n",
       "      <td>1047</td>\n",
       "      <td>1999.0</td>\n",
       "      <td>NaN</td>\n",
       "      <td>NaN</td>\n",
       "      <td>10</td>\n",
       "      <td>5.71</td>\n",
       "      <td>16.0</td>\n",
       "      <td>3000.0</td>\n",
       "      <td>4-2020</td>\n",
       "    </tr>\n",
       "  </tbody>\n",
       "</table>\n",
       "</div>"
      ],
      "text/plain": [
       "  brand_name                                    model_name       os  \\\n",
       "0    ALCATEL          1 1/8GB Bluish Black (5033D-2JALUAA)  Android   \n",
       "1    ALCATEL  1 5033D 1/16GB Volcano Black (5033D-2LALUAF)  Android   \n",
       "2    ALCATEL  1 5033D 1/16GB Volcano Black (5033D-2LALUAF)  Android   \n",
       "3    ALCATEL  1 5033D 1/16GB Volcano Black (5033D-2LALUAF)  Android   \n",
       "4      Nokia                           1.3 1/16GB Charcoal  Android   \n",
       "\n",
       "   popularity  best_price  lowest_price  highest_price  sellers_amount  \\\n",
       "0         422      1690.0        1529.0         1819.0              36   \n",
       "1         323      1803.0        1659.0         2489.0              36   \n",
       "2         299      1803.0        1659.0         2489.0              36   \n",
       "3         287      1803.0        1659.0         2489.0              36   \n",
       "4        1047      1999.0           NaN            NaN              10   \n",
       "\n",
       "   screen_size  memory_size  battery_size release_date  \n",
       "0         5.00          8.0        2000.0      10-2020  \n",
       "1         5.00         16.0        2000.0       9-2020  \n",
       "2         5.00         16.0        2000.0       9-2020  \n",
       "3         5.00         16.0        2000.0       9-2020  \n",
       "4         5.71         16.0        3000.0       4-2020  "
      ]
     },
     "execution_count": 2,
     "metadata": {},
     "output_type": "execute_result"
    }
   ],
   "source": [
    "data = pd.read_csv('./src/phones_data.csv', index_col = 0)\n",
    "data.head()"
   ]
  },
  {
   "cell_type": "code",
   "execution_count": 3,
   "metadata": {},
   "outputs": [
    {
     "data": {
      "text/plain": [
       "Text(0.5, 1.0, 'Price by battery size')"
      ]
     },
     "execution_count": 3,
     "metadata": {},
     "output_type": "execute_result"
    },
    {
     "data": {
      "image/png": "[encoded data removed]",
      "text/plain": [
       "<Figure size 432x288 with 1 Axes>"
      ]
     },
     "metadata": {
      "needs_background": "light"
     },
     "output_type": "display_data"
    }
   ],
   "source": [
    "battery = data.battery_size.values\n",
    "price = data.best_price.values\n",
    "plt.scatter(battery, price, alpha=0.3)\n",
    "plt.xlabel('Battery size')\n",
    "plt.ylabel('Price')\n",
    "plt.title('Price by battery size')"
   ]
  },
  {
   "cell_type": "code",
   "execution_count": null,
   "metadata": {},
   "outputs": [],
   "source": []
  },
  {
   "cell_type": "code",
   "execution_count": null,
   "metadata": {},
   "outputs": [],
   "source": []
  }
 ],
 "metadata": {
  "kernelspec": {
   "display_name": "Python 3",
   "language": "python",
   "name": "python3"
  },
  "language_info": {
   "codemirror_mode": {
    "name": "ipython",
    "version": 3
   },
   "file_extension": ".py",
   "mimetype": "text/x-python",
   "name": "python",
   "nbconvert_exporter": "python",
   "pygments_lexer": "ipython3",
   "version": "3.7.4"
  }
 },
 "nbformat": 4,
 "nbformat_minor": 2
}
